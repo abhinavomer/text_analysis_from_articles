{
 "cells": [
  {
   "cell_type": "code",
   "execution_count": 1,
   "id": "7ddb3f01-ddb7-4853-9d95-8ae588693935",
   "metadata": {},
   "outputs": [],
   "source": [
    "positive=open('positive-words.txt')\n",
    "data=positive.read()\n",
    "positive_words=data.split('\\n')\n",
    "positive_words.remove('')\n",
    "positive.close()"
   ]
  },
  {
   "cell_type": "code",
   "execution_count": 2,
   "id": "5cdf69ac-1d79-4102-956d-daa18d1715f2",
   "metadata": {},
   "outputs": [],
   "source": [
    "negative=open('negative-words.txt')\n",
    "data=negative.read()\n",
    "negative_words=data.split('\\n')\n",
    "negative_words.remove('')\n",
    "negative.close()"
   ]
  },
  {
   "cell_type": "code",
   "execution_count": 3,
   "id": "e7f4a945-79ba-4e9e-ab6b-4b57dd0e2419",
   "metadata": {},
   "outputs": [],
   "source": [
    "stop1=open('StopWords_Auditor.txt')\n",
    "data=stop1.read()\n",
    "stop_words1=data.split('\\n')\n",
    "stop_words1.remove('')\n",
    "stop1.close()"
   ]
  },
  {
   "cell_type": "code",
   "execution_count": 4,
   "id": "9489277f-6252-4718-9c8a-267cb47955ef",
   "metadata": {},
   "outputs": [],
   "source": [
    "stop2=open('StopWords_Currencies.txt')\n",
    "data=stop2.read()\n",
    "stop_words2=data.split('\\n')\n",
    "stop_words2.remove('')"
   ]
  },
  {
   "cell_type": "code",
   "execution_count": 5,
   "id": "dfdf3593-dedc-4af0-9911-3007908b7a7c",
   "metadata": {},
   "outputs": [],
   "source": [
    "stop_curr=[]\n",
    "for x in stop_words2:\n",
    "    a=x.split(\"|\")\n",
    "    stop_curr=stop_curr+a\n",
    "stop2.close()"
   ]
  },
  {
   "cell_type": "code",
   "execution_count": 6,
   "id": "797eb156-7f72-44a3-8eb5-dad2ae1dc6c0",
   "metadata": {},
   "outputs": [],
   "source": [
    "stop3=open('StopWords_DatesandNumbers.txt')\n",
    "data=stop3.read()\n",
    "stop_words3=data.split('\\n')\n",
    "stop3.close()"
   ]
  },
  {
   "cell_type": "code",
   "execution_count": 7,
   "id": "1afe65d8-4e9c-4872-89c6-541cf0944ca5",
   "metadata": {},
   "outputs": [],
   "source": [
    "stop4=open('StopWords_Generic.txt')\n",
    "data=stop4.read()\n",
    "stop_words4=data.split('\\n')\n",
    "stop4.close()"
   ]
  },
  {
   "cell_type": "code",
   "execution_count": 8,
   "id": "2148fc44-090b-4349-90df-575fc093d3fe",
   "metadata": {},
   "outputs": [],
   "source": [
    "stop5=open('StopWords_GenericLong.txt')\n",
    "data=stop5.read()\n",
    "stop_words5=data.split('\\n')\n",
    "stop5.close()"
   ]
  },
  {
   "cell_type": "code",
   "execution_count": 9,
   "id": "c50dc04b-d151-4dc6-b52f-59053ad1b035",
   "metadata": {},
   "outputs": [],
   "source": [
    "stop6=open('StopWords_Geographic.txt')\n",
    "data=stop6.read()\n",
    "stop_words6=data.split('\\n')\n",
    "stop_words6.remove('')\n",
    "stop6.close()"
   ]
  },
  {
   "cell_type": "code",
   "execution_count": 10,
   "id": "a1425c85-92ca-4dbe-9652-114f55f4c406",
   "metadata": {},
   "outputs": [],
   "source": [
    "stop7=open('StopWords_Names.txt')\n",
    "data=stop7.read()\n",
    "stop_words7=data.split('\\n')\n",
    "stop_words7.remove('')\n",
    "stop7.close()"
   ]
  },
  {
   "cell_type": "code",
   "execution_count": 11,
   "id": "c15b043f-eb94-4bd6-bbaa-4dd522848e4d",
   "metadata": {},
   "outputs": [
    {
     "data": {
      "text/plain": [
       "14192"
      ]
     },
     "execution_count": 11,
     "metadata": {},
     "output_type": "execute_result"
    }
   ],
   "source": [
    "stopwords=stop_words1+stop_curr+stop_words3+stop_words4+stop_words5+stop_words6+stop_words7\n",
    "len(stopwords)"
   ]
  },
  {
   "cell_type": "code",
   "execution_count": 12,
   "id": "666c5eee-cc50-460a-9aa1-fe74d312d029",
   "metadata": {},
   "outputs": [
    {
     "name": "stderr",
     "output_type": "stream",
     "text": [
      "[nltk_data] Downloading package punkt to\n",
      "[nltk_data]     C:\\Users\\abhin\\AppData\\Roaming\\nltk_data...\n",
      "[nltk_data]   Package punkt is already up-to-date!\n"
     ]
    },
    {
     "data": {
      "text/plain": [
       "True"
      ]
     },
     "execution_count": 12,
     "metadata": {},
     "output_type": "execute_result"
    }
   ],
   "source": [
    "import pandas as pd\n",
    "import re\n",
    "import nltk\n",
    "from nltk.stem.porter import PorterStemmer\n",
    "from nltk.tokenize import word_tokenize, sent_tokenize\n",
    "nltk.download('punkt')"
   ]
  },
  {
   "cell_type": "code",
   "execution_count": 13,
   "id": "e2ef24c2-b870-44d9-a395-9d67793f57f0",
   "metadata": {},
   "outputs": [
    {
     "data": {
      "text/html": [
       "<div>\n",
       "<style scoped>\n",
       "    .dataframe tbody tr th:only-of-type {\n",
       "        vertical-align: middle;\n",
       "    }\n",
       "\n",
       "    .dataframe tbody tr th {\n",
       "        vertical-align: top;\n",
       "    }\n",
       "\n",
       "    .dataframe thead th {\n",
       "        text-align: right;\n",
       "    }\n",
       "</style>\n",
       "<table border=\"1\" class=\"dataframe\">\n",
       "  <thead>\n",
       "    <tr style=\"text-align: right;\">\n",
       "      <th></th>\n",
       "      <th>title</th>\n",
       "      <th>description</th>\n",
       "    </tr>\n",
       "  </thead>\n",
       "  <tbody>\n",
       "    <tr>\n",
       "      <th>0</th>\n",
       "      <td>Rising IT cities and its impact on the economy...</td>\n",
       "      <td>We have seen a huge development and dependence...</td>\n",
       "    </tr>\n",
       "    <tr>\n",
       "      <th>1</th>\n",
       "      <td>Rising IT Cities and Their Impact on the Econo...</td>\n",
       "      <td>Throughout history, from the industrial revolu...</td>\n",
       "    </tr>\n",
       "    <tr>\n",
       "      <th>2</th>\n",
       "      <td>Internet Demandâs Evolution, Communication I...</td>\n",
       "      <td>IntroductionIn the span of just a few decades,...</td>\n",
       "    </tr>\n",
       "    <tr>\n",
       "      <th>3</th>\n",
       "      <td>Rise of Cybercrime and its Effect in upcoming ...</td>\n",
       "      <td>The way we live, work, and communicate has unq...</td>\n",
       "    </tr>\n",
       "    <tr>\n",
       "      <th>4</th>\n",
       "      <td>OTT platform and its impact on the entertainme...</td>\n",
       "      <td>The year 2040 is poised to witness a continued...</td>\n",
       "    </tr>\n",
       "    <tr>\n",
       "      <th>...</th>\n",
       "      <td>...</td>\n",
       "      <td>...</td>\n",
       "    </tr>\n",
       "    <tr>\n",
       "      <th>88</th>\n",
       "      <td>Estimating the impact of COVID-19 on the world...</td>\n",
       "      <td>COVID-19 an unprecedented pandemic for us but ...</td>\n",
       "    </tr>\n",
       "    <tr>\n",
       "      <th>89</th>\n",
       "      <td>Estimating the impact of COVID-19 on the world...</td>\n",
       "      <td>Whatâs perfection really? Does every person ...</td>\n",
       "    </tr>\n",
       "    <tr>\n",
       "      <th>90</th>\n",
       "      <td>Travel and Tourism Outlook</td>\n",
       "      <td>The UN projects a 20-30% decline in internatio...</td>\n",
       "    </tr>\n",
       "    <tr>\n",
       "      <th>91</th>\n",
       "      <td>Gaming Disorder and Effects of Gaming on Health.</td>\n",
       "      <td>Perhaps the virtual illusion has become todayâ...</td>\n",
       "    </tr>\n",
       "    <tr>\n",
       "      <th>92</th>\n",
       "      <td>What is the repercussion of the environment du...</td>\n",
       "      <td>What is COVID 19 pandemic?On 31st December 201...</td>\n",
       "    </tr>\n",
       "  </tbody>\n",
       "</table>\n",
       "<p>93 rows × 2 columns</p>\n",
       "</div>"
      ],
      "text/plain": [
       "                                                title  \\\n",
       "0   Rising IT cities and its impact on the economy...   \n",
       "1   Rising IT Cities and Their Impact on the Econo...   \n",
       "2   Internet Demandâs Evolution, Communication I...   \n",
       "3   Rise of Cybercrime and its Effect in upcoming ...   \n",
       "4   OTT platform and its impact on the entertainme...   \n",
       "..                                                ...   \n",
       "88  Estimating the impact of COVID-19 on the world...   \n",
       "89  Estimating the impact of COVID-19 on the world...   \n",
       "90                         Travel and Tourism Outlook   \n",
       "91   Gaming Disorder and Effects of Gaming on Health.   \n",
       "92  What is the repercussion of the environment du...   \n",
       "\n",
       "                                          description  \n",
       "0   We have seen a huge development and dependence...  \n",
       "1   Throughout history, from the industrial revolu...  \n",
       "2   IntroductionIn the span of just a few decades,...  \n",
       "3   The way we live, work, and communicate has unq...  \n",
       "4   The year 2040 is poised to witness a continued...  \n",
       "..                                                ...  \n",
       "88  COVID-19 an unprecedented pandemic for us but ...  \n",
       "89  Whatâs perfection really? Does every person ...  \n",
       "90  The UN projects a 20-30% decline in internatio...  \n",
       "91  Perhaps the virtual illusion has become todayâ...  \n",
       "92  What is COVID 19 pandemic?On 31st December 201...  \n",
       "\n",
       "[93 rows x 2 columns]"
      ]
     },
     "execution_count": 13,
     "metadata": {},
     "output_type": "execute_result"
    }
   ],
   "source": [
    "df=pd.read_csv('article.csv',encoding='ISO-8859-1')"
   ]
  },
  {
   "cell_type": "code",
   "execution_count": 14,
   "id": "2738d1bb-857f-48c7-a4c3-dfc1354aa593",
   "metadata": {},
   "outputs": [],
   "source": [
    "port_stem=PorterStemmer()\n",
    "def stemming(content):\n",
    "    content=str(content)\n",
    "    stemmed_content = content.split()\n",
    "    stemmed_content = [port_stem.stem(word) for word in stemmed_content if not word in stopwords]\n",
    "    stemmed_content = ' '.join(stemmed_content)\n",
    "    return stemmed_content"
   ]
  },
  {
   "cell_type": "code",
   "execution_count": 15,
   "id": "38add701-1552-40a4-adb9-bd2c70c8edd5",
   "metadata": {},
   "outputs": [],
   "source": [
    "df['stemmed_content']=df['description'].apply(stemming)"
   ]
  },
  {
   "cell_type": "code",
   "execution_count": 23,
   "id": "7631b9af-e5b8-4f37-801b-ae2a849a11a8",
   "metadata": {},
   "outputs": [],
   "source": [
    "def count_complex_words(words):\n",
    "    a=(len(words)/(sum(1 for word in words if count_syllables(word) > 0)))\n",
    "    return sum(1 for word in words if count_syllables(word) > 2),a\n",
    "def count_syllables(word):\n",
    "    word = word.lower()\n",
    "    syllables = 0\n",
    "    vowels = \"aeiou\"\n",
    "    if word[0] in vowels:\n",
    "        syllables += 1\n",
    "    for index in range(1, len(word)):\n",
    "        if word[index] in vowels and word[index - 1] not in vowels:\n",
    "            syllables += 1\n",
    "    if word.endswith(\"es\") or word.endswith(\"ed\"):\n",
    "        syllables -= 1\n",
    "    if syllables == 0:\n",
    "        syllables += 1\n",
    "    return syllables\n",
    "def average_word_length(words):\n",
    "    total_chars = sum(len(word) for word in words)\n",
    "    return total_chars / len(words)\n",
    "avg_sen_len=[]\n",
    "per_complex_word=[]\n",
    "fog_index=[]\n",
    "avg_no_words_per_sen=[]\n",
    "com_word_count=[]\n",
    "word_count=[]\n",
    "syll_per_word=[]\n",
    "personal_pronoun=[]\n",
    "avg_word_count=[]"
   ]
  },
  {
   "cell_type": "code",
   "execution_count": 24,
   "id": "d68a2912-f5c3-4e84-9c09-3e1aed84d09a",
   "metadata": {},
   "outputs": [],
   "source": [
    "pos=[]\n",
    "neg=[]\n",
    "pol=[]\n",
    "sub=[]\n",
    "def preprocess_article(article):\n",
    "    article=str(article)\n",
    "    words = article.split()\n",
    "    return words\n",
    "def classify_article(article):\n",
    "    words = preprocess_article(article)\n",
    "    \n",
    "    positive_count = sum(1 for word in words if word in positive_words)\n",
    "    negative_count = sum(1 for word in words if word in negative_words)\n",
    "    polarity_score = (positive_count - negative_count) / ((positive_count + negative_count) + 0.000001)\n",
    "    subjectivity_score = (positive_count + negative_count) / (len(words) + 0.000001)\n",
    "    pos.append(positive_count)\n",
    "    neg.append(negative_count)\n",
    "    pol.append(polarity_score)\n",
    "    sub.append(subjectivity_score)\n",
    "    \n",
    "    content=str(article)\n",
    "    sentences = sent_tokenize(content)\n",
    "    words = word_tokenize(content)\n",
    "    avg_word_length=average_word_length(words)\n",
    "    num_sentences = len(sentences)\n",
    "    num_words = len(words)\n",
    "    num_complex_words,syl_per_words = count_complex_words(words)\n",
    "    pronouns = re.findall(r'\\b(I|we|my|ours|us)\\b', content, re.I)\n",
    "    \n",
    "    pronoun_len=len(pronouns)\n",
    "    avg_sentence_length = int(num_words / num_sentences)\n",
    "    percentage_complex_words = (num_complex_words / num_words)*100\n",
    "    fo_index = 0.4 * (avg_sentence_length + percentage_complex_words)\n",
    "    avg_sen_len.append(num_sentences)\n",
    "    per_complex_word.append(percentage_complex_words)\n",
    "    fog_index.append(fo_index)\n",
    "    avg_no_words_per_sen.append(avg_sentence_length)\n",
    "    com_word_count.append(num_complex_words)\n",
    "    word_count.append(num_words)\n",
    "    syll_per_word.append(syl_per_words)\n",
    "    personal_pronoun.append(pronoun_len)\n",
    "    avg_word_count.append(avg_word_length)\n",
    "    \n",
    "    if positive_count > negative_count:\n",
    "        return \"Positive\"\n",
    "    else:\n",
    "        return \"Negative\"\n",
    "df['sentiment']=df['description'].apply(classify_article)"
   ]
  },
  {
   "cell_type": "code",
   "execution_count": 25,
   "id": "9fd6ded7-fa0f-4087-8a9a-fd207c0548a6",
   "metadata": {},
   "outputs": [],
   "source": [
    "df['positive_score']=pos\n",
    "df['negative_score']=neg\n",
    "df['Polarity_score']=pol\n",
    "df['Subjectivity_score']=sub"
   ]
  },
  {
   "cell_type": "code",
   "execution_count": 26,
   "id": "7fbb6230-4906-4309-b65a-cee1340c15cd",
   "metadata": {},
   "outputs": [],
   "source": [
    "df['Avg_sen_len']=avg_sen_len\n",
    "df['per_com_word']=per_complex_word\n",
    "df['fog_index']=fog_index\n",
    "df['avg_wrod_per_sen']=avg_no_words_per_sen\n",
    "df['com_words_count']=com_word_count\n",
    "df['word_count']=word_count\n",
    "df['syll_per_word']=syll_per_word\n",
    "df['personal_pronoun']=personal_pronoun\n",
    "df['Avg_word_count']=avg_word_count"
   ]
  },
  {
   "cell_type": "code",
   "execution_count": 28,
   "id": "e94b5d35-bb0a-4782-a5be-3c1f8e8f4c30",
   "metadata": {},
   "outputs": [],
   "source": [
    "df.to_csv(\"output.csv\")"
   ]
  },
  {
   "cell_type": "code",
   "execution_count": null,
   "id": "e31e30ea-3cb9-419c-93ec-3ee8ae6f31f1",
   "metadata": {},
   "outputs": [],
   "source": []
  }
 ],
 "metadata": {
  "kernelspec": {
   "display_name": "Python 3 (ipykernel)",
   "language": "python",
   "name": "python3"
  },
  "language_info": {
   "codemirror_mode": {
    "name": "ipython",
    "version": 3
   },
   "file_extension": ".py",
   "mimetype": "text/x-python",
   "name": "python",
   "nbconvert_exporter": "python",
   "pygments_lexer": "ipython3",
   "version": "3.11.6"
  }
 },
 "nbformat": 4,
 "nbformat_minor": 5
}
